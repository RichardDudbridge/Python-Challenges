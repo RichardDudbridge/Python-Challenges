{
 "cells": [
  {
   "cell_type": "markdown",
   "metadata": {},
   "source": [
    "The following challenges are from https://cofounderstown.com/4-fantastic-intermediate-python-programming-challenges-b7354"
   ]
  },
  {
   "cell_type": "markdown",
   "metadata": {},
   "source": [
    "# Star Triangle Pattern"
   ]
  },
  {
   "cell_type": "code",
   "execution_count": null,
   "metadata": {},
   "outputs": [],
   "source": [
    "N = int(input('Pick a number: '))\n",
    "\n",
    "x = 1\n",
    "for i in range(N, 0, -1):\n",
    "    spaces = i -1\n",
    "    stars = N - i + x\n",
    "    print(' ' * spaces + '*' * stars)\n",
    "    x = x + 1\n",
    "    "
   ]
  },
  {
   "cell_type": "markdown",
   "metadata": {},
   "source": [
    "# FizzBuzz"
   ]
  },
  {
   "cell_type": "code",
   "execution_count": 15,
   "metadata": {},
   "outputs": [
    {
     "name": "stdout",
     "output_type": "stream",
     "text": [
      "Give a number12\n",
      "1\n",
      "2\n",
      "3\n",
      "Fizz\n",
      "5\n",
      "Buzz\n",
      "7\n",
      "Fizz\n",
      "9\n",
      "10\n",
      "11\n",
      "FizzBuzz\n"
     ]
    }
   ],
   "source": [
    "n = int(input('Give a number'))\n",
    "\n",
    "for i in range(1, (n+1)): \n",
    "    if i % 4 == 0 and i % 6 == 0:\n",
    "        i = 'FizzBuzz'\n",
    "    elif i % 4 == 0:\n",
    "        i = 'Fizz'\n",
    "    elif i % 6 ==0:\n",
    "        i = 'Buzz'\n",
    "    print(i)"
   ]
  },
  {
   "cell_type": "markdown",
   "metadata": {},
   "source": [
    "# Sum of Two"
   ]
  },
  {
   "cell_type": "code",
   "execution_count": 39,
   "metadata": {},
   "outputs": [],
   "source": [
    "def sumOfTwo(a,b,v):\n",
    "    for x in a:\n",
    "        for y in b:\n",
    "            if x + y == v:\n",
    "                print('True:', x, '+', y, '=', v)\n",
    "            \n",
    "    "
   ]
  },
  {
   "cell_type": "code",
   "execution_count": 40,
   "metadata": {},
   "outputs": [
    {
     "name": "stdout",
     "output_type": "stream",
     "text": [
      "True: 3 + 20 = 23\n"
     ]
    }
   ],
   "source": [
    "sumOfTwo([1, 2, 3], [10, 20, 30], 23)"
   ]
  }
 ],
 "metadata": {
  "kernelspec": {
   "display_name": "Python 3",
   "language": "python",
   "name": "python3"
  },
  "language_info": {
   "codemirror_mode": {
    "name": "ipython",
    "version": 3
   },
   "file_extension": ".py",
   "mimetype": "text/x-python",
   "name": "python",
   "nbconvert_exporter": "python",
   "pygments_lexer": "ipython3",
   "version": "3.7.6"
  }
 },
 "nbformat": 4,
 "nbformat_minor": 4
}
