{
 "cells": [
  {
   "cell_type": "markdown",
   "metadata": {},
   "source": [
    "# About this Notebook"
   ]
  },
  {
   "cell_type": "markdown",
   "metadata": {},
   "source": [
    "This notebook details a series of Python exercises from: https://www.practicepython.org/. All completed in Jan + Feb 2021"
   ]
  },
  {
   "cell_type": "code",
   "execution_count": null,
   "metadata": {},
   "outputs": [],
   "source": [
    "# Change notebook to dark mode\n",
    "from jupyterthemes import get_themes\n",
    "from jupyterthemes.stylefx import set_nb_theme\n",
    "set_nb_theme('monokai')"
   ]
  },
  {
   "cell_type": "markdown",
   "metadata": {},
   "source": [
    "# Character Input"
   ]
  },
  {
   "cell_type": "code",
   "execution_count": null,
   "metadata": {
    "scrolled": true
   },
   "outputs": [],
   "source": [
    "name = input('What is your name? ')\n",
    "\n",
    "age = int(input('What is your age? '))\n",
    "import datetime\n",
    "\n",
    "# Find time now\n",
    "Now = datetime.datetime.now()\n",
    "\n",
    "year =str((Now.year - age) + 99)\n",
    "\n",
    "print(name + \", you will turn 100 years old in \" + year)"
   ]
  },
  {
   "cell_type": "markdown",
   "metadata": {},
   "source": [
    "# Odd Or Even"
   ]
  },
  {
   "cell_type": "code",
   "execution_count": null,
   "metadata": {},
   "outputs": [],
   "source": [
    "number = int(input('Pick a number: '))\n",
    "if number % 2 == 0:\n",
    "    print(\"Your number is EVEN\")\n",
    "if number % 2 != 0:\n",
    "    print(\"Your number is ODD\")\n",
    "if number % 4 == 0:\n",
    "    print(\"Yo number is a multiple of 4\")"
   ]
  },
  {
   "cell_type": "code",
   "execution_count": null,
   "metadata": {},
   "outputs": [],
   "source": [
    "num = int(input(\"Give us a number will ya: \"))\n",
    "check = int(input('Gi us a nother numba wil ya:'))\n",
    "if num % check  == 0:\n",
    "    print('Well done, ya got yourself some nicely dividing numbers')\n",
    "if num % check != 0:\n",
    "    print('No nicely dividing numbers for you')"
   ]
  },
  {
   "cell_type": "markdown",
   "metadata": {},
   "source": [
    "# List of Less Than Ten"
   ]
  },
  {
   "cell_type": "code",
   "execution_count": null,
   "metadata": {},
   "outputs": [],
   "source": [
    "num = int(input('Go on then, give us another number: '))\n",
    "\n",
    "list = [1, 1, 2, 3, 5, 8, 13, 21, 34, 55, 89]\n",
    "\n",
    "Lower_than_5 = []\n",
    "\n",
    "for i in list:\n",
    "    if i < num:\n",
    "       Lower_than_5.append(i)\n",
    "\n",
    "print(Lower_than_5)"
   ]
  },
  {
   "cell_type": "markdown",
   "metadata": {},
   "source": [
    "# Divisors"
   ]
  },
  {
   "cell_type": "code",
   "execution_count": null,
   "metadata": {},
   "outputs": [],
   "source": [
    "num =int(input('Give us a number and we will present you with all the divisors: '))\n",
    "        \n",
    "x = range(1, num)\n",
    "Divisor_List = []\n",
    "\n",
    "for i in x:\n",
    "    if num % i == 0:\n",
    "        Divisor_List.append(i)\n",
    "print(Divisor_List)"
   ]
  },
  {
   "cell_type": "markdown",
   "metadata": {},
   "source": [
    "# The Barnsley Fern"
   ]
  },
  {
   "cell_type": "code",
   "execution_count": null,
   "metadata": {},
   "outputs": [],
   "source": [
    "class Barnsley:\n",
    "    \"\"\"Generate Barnsley like fractals using affine transforms\"\"\"\n",
    "    def __init__(self, nr_points, coefficients = \"fern\"):\n",
    "        self.nr_points = nr_points \n",
    "\n",
    "        # Set initial starting point (at 0,0 on the axis)\n",
    "        self.x = 0.0\n",
    "        self.y = 0.0\n",
    "\n",
    "        # Set the coefficients to be used for the loop. The coefficients are for the affine transformation and are provided by the internet\n",
    "        if coefficients == \"fern\":\n",
    "            self.probability_factors = [0.01, 0.85, 0.07, 0.07]\n",
    "            self.a = [0, 0.85, 0.20, -0.15]\n",
    "            self.b = [0, 0.04, -0.26, 0.28]\n",
    "            self.c = [0, -0.04, 0.23, 0.26]\n",
    "            self.d = [0.16, 0.85, 0.22, 0.24]\n",
    "            self.e = [0, 0, 0, 0]\n",
    "            self.f = [0, 1.6, 1.6, 0.44]\n",
    "\n",
    "        self.nr_transforms = len(self.probability_factors)\n",
    "        \n",
    "        # Define the intervals of each transfrom using the probablities (add them cumulatively)\n",
    "        self.cumulative_probabilities = [0] * (self.nr_transforms + 1)\n",
    "        for i in range(1, len(self.cumulative_probabilities)):\n",
    "            self.cumulative_probabilities[i] = self.cumulative_probabilities[i - 1] + \\\n",
    "            self.probability_factors[i - 1]"
   ]
  },
  {
   "cell_type": "code",
   "execution_count": null,
   "metadata": {},
   "outputs": [],
   "source": [
    "def select_transformation(self):\n",
    "    \"\"\"Randomly select a transformation\"\"\"\n",
    "    rnd = random.random()\n",
    "    for i in range(self.nr_transforms):\n",
    "        if self.cumulative_probabilities[i] <= rnd <= self.cumulative_probabilities[i + 1]:\n",
    "            self.current_transform = i\n",
    "            break"
   ]
  },
  {
   "cell_type": "code",
   "execution_count": null,
   "metadata": {},
   "outputs": [],
   "source": [
    " def next_point(self):\n",
    "        \"\"\"Get the next point of the fractal\"\"\"\n",
    "        self.select_transform()\n",
    "        x_new = self.a[self.current_transform] * self.x + self.b[self.current_transform] * self.y + self.e[self.current_transform]\n",
    "        y_new = self.c[self.current_transform] * self.x + self.d[self.current_transform] * self.y + self.f[self.current_transform]\n",
    "        self.x = x_new\n",
    "        self.y = y_new\n",
    "        self.point_x.append(x_new)\n",
    "        self.point_y.append(y_new)"
   ]
  },
  {
   "cell_type": "code",
   "execution_count": null,
   "metadata": {},
   "outputs": [],
   "source": [
    "    def generate_points(self):\n",
    "        \"\"\"Generate all the fractal points\"\"\"\n",
    "        for _ in range(self.nr_points):\n",
    "            self.next_point()\n",
    "            \n",
    "        # Bounding box for the fractal\n",
    "        self.x_min = min(self.point_x)\n",
    "        self.x_max = max(self.point_x)\n",
    "        self.y_min = min(self.point_y)\n",
    "        self.y_max = max(self.point_y)"
   ]
  },
  {
   "cell_type": "code",
   "execution_count": null,
   "metadata": {},
   "outputs": [],
   "source": [
    "# Import the modules needed\n",
    "import matplotlib.pyplot as plt\n",
    "plt.style.use('dark_background')\n",
    "import random \n",
    "from random import randint\n",
    "\n",
    "# Initialise the list with empyty x and y coordinates\n",
    "x = []\n",
    "y = []\n",
    "\n",
    "# Set the first transform to 0 (as the iteration will start at coordinates 0,0)\n",
    "x.append(0)\n",
    "y.append(0)\n",
    "\n",
    "# Initiate first iteration of the transform\n",
    "current = 0\n",
    "\n",
    "# Create a loop to iterate over the transform\n",
    "for i in range (1, 50000):\n",
    "    \n",
    "    # Generate a random number betwee 1 and 100 (this will be used )\n",
    "    z = random.randint(1,100)\n",
    "    \n",
    "    # if probability is 0.01\n",
    "    if z == 1:\n",
    "        x.append(0)\n",
    "        y.append(0.16*(y[current]))\n",
    "    \n",
    "    if z >= 2 and z <= 86:\n",
    "        x.append(0.85*(x[current]) + 0.04*(y[current]))\n",
    "        y.append(-0.04*(x[current]) + 0.85*(y[current]) + 1.6)\n",
    "    \n",
    "    if z >= 87 and z <= 93:\n",
    "        x.append(0.2*(x[current]) + -0.26*(y[current]))\n",
    "        y.append(0.23*(x[current]) + 0.22*(y[current]) + 1.6)\n",
    "                 \n",
    "    if z >= 94 and z <= 100:\n",
    "        x.append(-0.15*(x[current]) + 0.28*(y[current])) \n",
    "        y.append(0.26*(x[current]) + 0.24*(y[current])+0.44)\n",
    "            \n",
    "    current = current + 1\n",
    "\n",
    "plt.scatter(x, y,s=0.2, edgecolor ='green')\n",
    "plt.title(\"This is a fern\")\n",
    "plt.axis('off')\n"
   ]
  },
  {
   "cell_type": "markdown",
   "metadata": {},
   "source": [
    "# List Overlap"
   ]
  },
  {
   "cell_type": "code",
   "execution_count": null,
   "metadata": {},
   "outputs": [],
   "source": [
    "import random\n",
    "\n",
    "# Initialise lists\n",
    "lista = []\n",
    "listb = []\n",
    "\n",
    "# Generate random lists\n",
    "for i in range(0,10):\n",
    "    n = random.randint(1, 30)\n",
    "    lista.append(n)\n",
    "   \n",
    "for i in range(0,10):\n",
    "    n = random.randint(1, 30)\n",
    "    listb.append(n)\n",
    "\n",
    "listc = []\n",
    "\n",
    "# Loop to to match elements in list\n",
    "for i in lista:\n",
    "    if i in listb and i not in listc:\n",
    "       listc.append(i)\n",
    "    \n",
    "print(listc)"
   ]
  },
  {
   "cell_type": "markdown",
   "metadata": {},
   "source": [
    "# String List"
   ]
  },
  {
   "cell_type": "code",
   "execution_count": null,
   "metadata": {},
   "outputs": [],
   "source": [
    "inputstring = input(\"Please input a number or a word: \")\n",
    "a = list(inputstring)\n",
    "\n",
    "if a == a[::-1]:\n",
    "    print('Thats a palindrome!')\n",
    "else:\n",
    "    print('Thats NOT a palindrome')"
   ]
  },
  {
   "cell_type": "markdown",
   "metadata": {},
   "source": [
    "# List Comprehesion"
   ]
  },
  {
   "cell_type": "code",
   "execution_count": null,
   "metadata": {},
   "outputs": [],
   "source": [
    "a = [1, 4, 9, 16, 25, 36, 49, 64, 81, 100]\n",
    "\n",
    "b = [element for element in a if element % 2 ==0]\n",
    "        \n",
    "print(b)"
   ]
  },
  {
   "cell_type": "markdown",
   "metadata": {},
   "source": [
    "# Rock Paper Scissors"
   ]
  },
  {
   "cell_type": "code",
   "execution_count": null,
   "metadata": {},
   "outputs": [],
   "source": [
    "from random import randint\n",
    "\n",
    "choices = ['Rock', 'Paper', 'Scissors']\n",
    "\n",
    "computer = choices[randint(0,2)]\n",
    "\n",
    "player = False\n",
    "\n",
    "while player == False:\n",
    "    player = input('Rock, Paper, Scissors?: ')\n",
    "    if player == computer:\n",
    "        print(\"Tie\")\n",
    "    elif player == 'Rock':\n",
    "        if computer == 'Paper':\n",
    "            print('COMPUTER WINS')\n",
    "        else:\n",
    "            print('YOU WIN')\n",
    "    elif player == 'Paper':\n",
    "        if computer == 'Scissors':\n",
    "            print('Machine wins this time')\n",
    "        else:\n",
    "            print('Man triumphs over machine')\n",
    "    elif player == 'Scissors':\n",
    "        if computer == 'Rock':\n",
    "            print('Machine beat you')\n",
    "        else:\n",
    "            print('You win this time')\n",
    "    else:\n",
    "        print('You inputted in a invalid move')\n",
    "                \n",
    "    player = False                           "
   ]
  },
  {
   "cell_type": "markdown",
   "metadata": {},
   "source": [
    "# Guessing Game One"
   ]
  },
  {
   "cell_type": "code",
   "execution_count": null,
   "metadata": {},
   "outputs": [],
   "source": [
    "from random import randint\n",
    "\n",
    "Random_Number = randint(1,9)\n",
    "\n",
    "Guess = 0\n",
    "Count = 0\n",
    "\n",
    "while Guess != Random_Number and Guess != 'exit':\n",
    "    Guess = input('Guess a the random number between 1 and 9: ')\n",
    "    \n",
    "    if Guess == 'exit':\n",
    "        break\n",
    "        \n",
    "    Guess = int(Guess)\n",
    "    Count += 1\n",
    "    \n",
    "    if Guess == Random_Number:\n",
    "        print('You guessed right!')\n",
    "        print('It only took you', Count, 'Tries')\n",
    "    elif Guess > Random_Number:\n",
    "        print('Your guess is too high')\n",
    "    elif Guess < Random_Number:\n",
    "        print('Your guess is too low')\n",
    "        "
   ]
  },
  {
   "cell_type": "markdown",
   "metadata": {},
   "source": [
    "# List Overlap Comprehensions"
   ]
  },
  {
   "cell_type": "code",
   "execution_count": null,
   "metadata": {},
   "outputs": [],
   "source": [
    "a = []\n",
    "b = []\n",
    "c = []\n",
    "\n",
    "for i in range(0,8):\n",
    "    n = randint(0,30)\n",
    "    a.append(n)\n",
    "\n",
    "for i in range (0,12):\n",
    "    n = randint(0,30)\n",
    "    b.append(n)\n",
    "\n",
    "        \n",
    "# List comprehension\n",
    "c = sorted([i for i in a if i in b and i not in c])     \n",
    "\n",
    "print('list a is: ', a)\n",
    "print('list b is: ', b)\n",
    "print('the overlap between a and b is: ', c)"
   ]
  },
  {
   "cell_type": "markdown",
   "metadata": {},
   "source": [
    "# Check Primality Functions"
   ]
  },
  {
   "cell_type": "code",
   "execution_count": null,
   "metadata": {},
   "outputs": [],
   "source": [
    "# Function to ask user for number. Default is 'give me a number'\n",
    "def get_integer(help_text = 'Give me a number: '):\n",
    "    return int(input(help_text))\n",
    "\n",
    "num = get_integer('Give me a number that you think is prime: ')\n",
    "\n",
    "num_range = range(1, num + 1)\n",
    "divisors = [i for i in num_range if num % i ==0]\n",
    "\n",
    "if divisors == [1]:\n",
    "    print('You got a prime number')\n",
    "else:\n",
    "    print('You aint got a prime number')"
   ]
  },
  {
   "cell_type": "markdown",
   "metadata": {},
   "source": [
    "# List Ends"
   ]
  },
  {
   "cell_type": "code",
   "execution_count": null,
   "metadata": {},
   "outputs": [],
   "source": [
    "def get_list_ends(a_list):\n",
    "    '''Returns the first and last element of an inputted string'''\n",
    "    return [a_list[0], a_list[-1]]"
   ]
  },
  {
   "cell_type": "markdown",
   "metadata": {},
   "source": [
    "# Fibonacci"
   ]
  },
  {
   "cell_type": "code",
   "execution_count": null,
   "metadata": {},
   "outputs": [],
   "source": [
    "def gen_fib():\n",
    "    '''Returns a fibonacci list'''\n",
    "    n = int(input('how long do you want you fibonacci sequence to be?: '))\n",
    "    i = 1\n",
    "    if n == 0: \n",
    "        fib = [0]\n",
    "    elif n == 1:\n",
    "        fib = [1]\n",
    "    elif n == 2:\n",
    "        fib == [1,1]\n",
    "    elif n > 2:\n",
    "        fib = [1,1]\n",
    "        while i < (n-1):\n",
    "            fib.append(fib[i] + fib[i-1])\n",
    "            i += 1\n",
    "    return fib"
   ]
  },
  {
   "cell_type": "markdown",
   "metadata": {},
   "source": [
    "# List Remove Duplicates"
   ]
  },
  {
   "cell_type": "code",
   "execution_count": null,
   "metadata": {},
   "outputs": [],
   "source": [
    "# unique list with loop\n",
    "def create_unique_list_loop(x):\n",
    "    y = []\n",
    "    for i in x:\n",
    "        if i not in y:\n",
    "            y.append(i)\n",
    "    return y\n",
    "\n",
    "# unique list with set\n",
    "def create_unique_list_set(x):\n",
    "    return list(set(x))"
   ]
  },
  {
   "cell_type": "markdown",
   "metadata": {},
   "source": [
    "# Reverse Word Order"
   ]
  },
  {
   "cell_type": "code",
   "execution_count": null,
   "metadata": {},
   "outputs": [],
   "source": [
    "# long way round\n",
    "def reverse_word_order():\n",
    "    '''Takes a input sentence and reverses the order'''\n",
    "    ask = input('Give me a sentence: ')\n",
    "    split = ask.split()\n",
    "    reverse = split[::-1]\n",
    "    join = ' '.join(reverse)\n",
    "    return join"
   ]
  },
  {
   "cell_type": "code",
   "execution_count": null,
   "metadata": {},
   "outputs": [],
   "source": [
    "# more compact reverse\n",
    "def reverse_word_order_2():\n",
    "    '''Takes a input sentence and reverses the order'''\n",
    "    ask = input('Give me a sentence: ')\n",
    "    return ' '.join( ask.split()[::-1])"
   ]
  },
  {
   "cell_type": "markdown",
   "metadata": {},
   "source": [
    "# Password Generator"
   ]
  },
  {
   "cell_type": "code",
   "execution_count": null,
   "metadata": {},
   "outputs": [],
   "source": [
    "import random\n",
    "from random import randint\n",
    "import string\n",
    "\n",
    "def password_gen():\n",
    "    '''Generates a random password'''\n",
    "   \n",
    "    # asks the users to input a password of chose complexity\n",
    "    Desired_complexity = input('Would you like your password to be low, medium or high complexity?: ')\n",
    "    # list of words used for low complexity passwords\n",
    "    SimpleWords = ['Toe', 'Orange', 'Cow', 'BAM']\n",
    "    # list used to generate random letters for medium complex passwords\n",
    "    RandomLetters = ''.join(random.choice(string.ascii_letters) for i in range(1, 12))\n",
    "    # list used to randomly generate characters for the high complex password\n",
    "    RandomCharacters = ''.join(random.choice(string.ascii_letters+string.digits+string.punctuation) for i in range(12))\n",
    "\n",
    "    \n",
    "    if Desired_complexity == 'Low' or Desired_complexity == 'low':\n",
    "        password = random.choice(SimpleWords)\n",
    "            \n",
    "    elif Desired_complexity == 'Medium' or Desired_complexity == 'medium':\n",
    "        password = RandomLetters\n",
    "    \n",
    "    elif Desired_complexity == 'High' or Desired_complexity == 'high':\n",
    "        password = RandomCharacters\n",
    "    \n",
    "    return password\n",
    "\n",
    "password_gen()"
   ]
  },
  {
   "cell_type": "markdown",
   "metadata": {},
   "source": [
    "# Decode a web page"
   ]
  },
  {
   "cell_type": "code",
   "execution_count": null,
   "metadata": {},
   "outputs": [],
   "source": [
    "import requests\n",
    "from bs4 import BeautifulSoup\n",
    "\n",
    "url = 'https://www.nytimes.com/'\n",
    "r = requests.get(url)\n",
    "r_html = r.content\n",
    "\n",
    "soup = BeautifulSoup(r_html, 'html.parser')\n",
    "\n",
    "list_title = soup.find_all(class_=\"styln-hp-briefing-section\")\n",
    "list_title_2 = soup.find_all(class_=\"css-kej3w4\")\n",
    "list_title_3 = soup.find_all(class_=\"css-c8ig1a esl82me2\")\n",
    "\n",
    "print(\" \")\n",
    "print(\"*******List of Titles*********\")\n",
    "print(\" \")\n",
    "for article_title in list_title:\n",
    "    print(article_title.get_text())\n",
    "for article_title in list_title_2:\n",
    "    print(article_title.get_text())\n",
    "for article_title in list_title_3:\n",
    "    print(article_title.get_text())\n",
    "print(\" \")\n",
    "print(\"*******List of Titles*********\")"
   ]
  },
  {
   "cell_type": "markdown",
   "metadata": {},
   "source": [
    "# Cows and Bulls"
   ]
  },
  {
   "cell_type": "code",
   "execution_count": null,
   "metadata": {},
   "outputs": [],
   "source": [
    "import random\n",
    "from random import randint\n",
    "\n",
    "def cow_and_bull():\n",
    "    '''Cow and bull game'''\n",
    "    \n",
    "    Count = 0\n",
    "    Guess = 0\n",
    "    RN = randint(999,9999)\n",
    "    \n",
    "    print('Welcome to the most fun game ever - the cow and bull game!!')\n",
    "\n",
    "    while Guess != RN and Guess != 'exit':\n",
    "        \n",
    "        if Guess == 'exit':\n",
    "            break\n",
    "                 \n",
    "        if __name__ == '__main__':\n",
    "            Guess = input('Guess a random 4 digit number: ')\n",
    "\n",
    "        Count += 1\n",
    "        Guess = int(Guess)    \n",
    "            \n",
    "        if RN == Guess:\n",
    "            print('You got all 4 cows!, your count was ', Count)\n",
    "\n",
    "        \n",
    "        elif str(RN)[0] == str(Guess)[0] or str(RN)[1] == str(Guess)[1] or str(RN)[2] == str(Guess)[2] or str(RN)[3] == str(Guess)[3]:\n",
    "            print('1 cow, 3 bulls, keep trying')\n",
    "            \n",
    "        elif str(RN)[0:2] == str(Guess)[0:2] or str(RN)[1:3] == str(Guess)[1:3] or str(RN)[2:4] == str(Guess)[2:4]:\n",
    "            print('2 cows, 2 bulls, getting better, keep guessing')\n",
    "            \n",
    "        elif str(RN)[0:3] == str(Guess)[0:3] or str(RN)[1:4] == str(Guess)[1:4]:\n",
    "            print('3 cows, ONE bulls, so close, keep going')\n",
    "\n",
    "        else:\n",
    "            print('4 bulls bro, buck up your ideas')\n",
    "\n"
   ]
  },
  {
   "cell_type": "code",
   "execution_count": null,
   "metadata": {},
   "outputs": [],
   "source": [
    "cow_and_bull()"
   ]
  },
  {
   "cell_type": "markdown",
   "metadata": {},
   "source": [
    "# Decode a Web Page Part 2"
   ]
  },
  {
   "cell_type": "code",
   "execution_count": null,
   "metadata": {},
   "outputs": [],
   "source": [
    "import requests\n",
    "from bs4 import BeautifulSoup\n",
    "\n",
    "url = 'http://www.vanityfair.com/society/2014/06/monica-lewinsky-humiliation-culture'\n",
    "r = requests.get(url)\n",
    "r_html = r.content\n",
    "\n",
    "soup = BeautifulSoup(r_html, 'html.parser')\n",
    "\n",
    "blacklist = [\n",
    "  'style',\n",
    "  'script',\n",
    "  # other elements,\n",
    "]\n",
    "\n",
    "text_elements = [t for t in soup.find_all(text=True) if t.parent.name not in blacklist]"
   ]
  },
  {
   "cell_type": "markdown",
   "metadata": {},
   "source": [
    "# Element Search "
   ]
  },
  {
   "cell_type": "code",
   "execution_count": null,
   "metadata": {},
   "outputs": [],
   "source": [
    "import random\n",
    "from random import randint\n",
    "\n",
    "def num_inside():\n",
    "    \n",
    "    list = []\n",
    "    num = int(input('Pick a number: '))\n",
    "\n",
    "    for i in range(0,10):\n",
    "        n = randint(0,10)\n",
    "        list.append(n)\n",
    "\n",
    "    list = sorted(list)\n",
    "    \n",
    "    if num in list:\n",
    "        print('Your number IS in the following list', list)\n",
    "        \n",
    "    else:\n",
    "        print('Your number is NOT in the following randomly generated list', list)\n",
    "        "
   ]
  },
  {
   "cell_type": "code",
   "execution_count": null,
   "metadata": {},
   "outputs": [],
   "source": [
    "num_inside()"
   ]
  },
  {
   "cell_type": "markdown",
   "metadata": {},
   "source": [
    "# Write to a File"
   ]
  },
  {
   "cell_type": "code",
   "execution_count": null,
   "metadata": {},
   "outputs": [],
   "source": [
    "text_elements = ''.join(text_elements)\n",
    "\n"
   ]
  },
  {
   "cell_type": "code",
   "execution_count": null,
   "metadata": {},
   "outputs": [],
   "source": [
    "with open(r'C:\\Users\\richard.dudbridge\\Documents\\Python Scripts\\WritetoFile', 'w') as open_file:\n",
    "    open_file.write(text_elements)"
   ]
  },
  {
   "cell_type": "markdown",
   "metadata": {},
   "source": [
    "# Read from a File"
   ]
  },
  {
   "cell_type": "code",
   "execution_count": null,
   "metadata": {},
   "outputs": [],
   "source": [
    "with open(r'C:\\Users\\richard.dudbridge\\Documents\\Python Scripts\\WritetoFile', 'r') as open_file:\n",
    "    text = open_file.read()"
   ]
  },
  {
   "cell_type": "code",
   "execution_count": null,
   "metadata": {},
   "outputs": [],
   "source": [
    "text"
   ]
  },
  {
   "cell_type": "code",
   "execution_count": null,
   "metadata": {},
   "outputs": [],
   "source": [
    "counter_dict = {}\n",
    "with open(r\"C:\\Users\\richard.dudbridge\\Documents\\Python Scripts\\nameslist.txt\", 'r') as open_file:\n",
    "    line = open_file.readline()\n",
    "    while line:\n",
    "        line = line.strip()\n",
    "        if line in counter_dict:\n",
    "            counter_dict[line] += 1\n",
    "        else:\n",
    "            counter_dict[line] = 1\n",
    "        line = open_file.readline()\n",
    "\n",
    "print(counter_dict)"
   ]
  },
  {
   "cell_type": "code",
   "execution_count": null,
   "metadata": {},
   "outputs": [],
   "source": [
    "char1 = '/'\n",
    "char2 = '/'\n",
    "\n",
    "counter_dict = {}\n",
    "with open(r\"C:\\Users\\richard.dudbridge\\Documents\\Python Scripts\\sundata.txt\", 'r') as open_file:\n",
    "    line = open_file.readline()\n",
    "    while line:\n",
    "        line = line[3:-26]\n",
    "        if line in counter_dict:\n",
    "            counter_dict[line] += 1\n",
    "        else:\n",
    "            counter_dict[line] = 1\n",
    "        line = open_file.readline()\n",
    "\n",
    "print(counter_dict)"
   ]
  },
  {
   "cell_type": "markdown",
   "metadata": {},
   "source": [
    "# File Overlap"
   ]
  },
  {
   "cell_type": "code",
   "execution_count": null,
   "metadata": {},
   "outputs": [],
   "source": [
    "with open(r'C:\\Users\\richard.dudbridge\\Documents\\Python Scripts\\primenumbers.txt', 'r') as open_file:\n",
    "    prime = open_file.readline()\n",
    "    while prime:\n",
    "        prime = prime.strip()\n",
    "        prime = open_file.readline()\n",
    "    \n",
    "with open(r'C:\\Users\\richard.dudbridge\\Documents\\Python Scripts\\happynumbers.txt', 'r') as open_file:\n",
    "    happy = open_file.readline()\n",
    "    while happy:\n",
    "        happy = happy.strip()\n",
    "        happy = open_file.readline()"
   ]
  },
  {
   "cell_type": "code",
   "execution_count": null,
   "metadata": {},
   "outputs": [],
   "source": [
    "primelist = []\n",
    "with open(r'C:\\Users\\richard.dudbridge\\Documents\\Python Scripts\\primenumbers.txt', 'r') as primefile:\n",
    "    line = primefile.readline()\n",
    "    while line:\n",
    "        primelist.append(int(line))\n",
    "        line = primefile.readline()\n",
    "\n",
    "happylist = []\n",
    "with open(r'C:\\Users\\richard.dudbridge\\Documents\\Python Scripts\\happynumbers.txt', 'r') as happyfile:\n",
    "    line = happyfile.readline()\n",
    "    while line:\n",
    "        happylist.append(int(line))\n",
    "        line = happyfile.readline()\n",
    "    \n",
    "# Loop to to match elements in list\n",
    "crosslist = []\n",
    "for i in primelist:\n",
    "    if i in happylist and i not in crosslist:\n",
    "       crosslist.append(i)"
   ]
  },
  {
   "cell_type": "markdown",
   "metadata": {},
   "source": [
    "# Draw a Board Game"
   ]
  },
  {
   "cell_type": "code",
   "execution_count": null,
   "metadata": {},
   "outputs": [],
   "source": [
    "def board_game_size():\n",
    "    '''Function to create a fake board for tic tac toe of any size'''\n",
    "    # User input whatever size board they want\n",
    "    size = int(input('Pick the size of your board game: '))\n",
    "    \n",
    "   \n",
    "    dashes = (' ---')  # These are the horizontal dashes\n",
    "    verticals = ('|   ') # These are the vertical lines\n",
    "        \n",
    "    dashes = dashes * size # This makes the dashes into the right number of columns\n",
    "    verticals = verticals * (size + 1) # This makes the horizontals into the right number of columns\n",
    "    \n",
    "    # This loop creates the right number of rows and adds one extra dash at the end to finish up the board\n",
    "    for i in range(size):\n",
    "        print(dashes)\n",
    "        print(verticals)\n",
    "    print(dashes)"
   ]
  },
  {
   "cell_type": "code",
   "execution_count": null,
   "metadata": {},
   "outputs": [],
   "source": [
    "# Guessing Game One in Function"
   ]
  },
  {
   "cell_type": "code",
   "execution_count": null,
   "metadata": {},
   "outputs": [],
   "source": [
    "from random import randint\n",
    "\n",
    "def guessing_game_one():\n",
    "\n",
    "    Random_Number = randint(1,9)\n",
    "\n",
    "    Guess = 0\n",
    "    Count = 0\n",
    "\n",
    "    while Guess != Random_Number and Guess != 'exit':\n",
    "        Guess = input('Guess a the random number between 1 and 9: ')\n",
    "\n",
    "        if Guess == 'exit':\n",
    "            break\n",
    "\n",
    "        Guess = int(Guess)\n",
    "        Count += 1\n",
    "\n",
    "        if Guess == Random_Number:\n",
    "            print('You guessed right!')\n",
    "            print('It only took you', Count, 'Tries')\n",
    "        elif Guess > Random_Number:\n",
    "            print('Your guess is too high')\n",
    "        elif Guess < Random_Number:\n",
    "            print('Your guess is too low')"
   ]
  },
  {
   "cell_type": "markdown",
   "metadata": {},
   "source": [
    "# Guessing Game Two"
   ]
  },
  {
   "cell_type": "code",
   "execution_count": null,
   "metadata": {},
   "outputs": [],
   "source": [
    "def guessing_game_two():\n",
    "\n",
    "    lower_limit = 0\n",
    "    upper_limit = 100\n",
    "    guess = 50 \n",
    "    count = 1\n",
    "\n",
    "    print('Pick a number between 0 and 100 and watch the computer guess it really slowly')\n",
    "\n",
    "    player_input = input('Is your number ' + str(guess) + '? Answer correct if so, or lower or higher as appropiate: ')\n",
    "\n",
    "    if player_input == 'correct':\n",
    "        print('We guessed your number, it is ' + str(guess))\n",
    "\n",
    "    while player_input != 'correct':\n",
    "        count += 1\n",
    "        if player_input == 'lower':\n",
    "            upper_limit = guess - 1\n",
    "        elif player_input == 'higher':\n",
    "            lower_limit = guess + 1\n",
    "        guess = round((lower_limit + upper_limit)/2)\n",
    "        player_input = input('Is your number ' + str(guess) + '? say correct if so, or lower or higher as appropiate: ')\n",
    "\n",
    "    print('It took', count, 'tries to guess your number #AI')\n",
    "        \n",
    "    "
   ]
  },
  {
   "cell_type": "markdown",
   "metadata": {},
   "source": [
    "# Check Tic Tac Toe"
   ]
  },
  {
   "cell_type": "code",
   "execution_count": null,
   "metadata": {},
   "outputs": [],
   "source": [
    "matrix = [[2, 0, 0],\n",
    "\t[0, 2, 0],\n",
    "\t[0, 0, 0]]\n",
    "\n",
    "# any of the rows\n",
    "if matrix[0] == [1, 1, 1] or matrix[1] == [1, 1, 1] or matrix[2] == [1, 1, 1]:\n",
    "    print('Player 1 has won')\n",
    "\n",
    "# any of the verticals\n",
    "elif [i[0] for i in matrix] == [1, 1, 1] or [i[1] for i in matrix] == [1, 1, 1] or [i[2] for i in matrix] == [1, 1, 1]:\n",
    "    print('Player 1 has won')\n",
    "\n",
    "# any of the diagnols  (first element of the first sub-list for number of sub lists, then second element of second sub list etc.)\n",
    "elif [matrix[i][i] for i in range(len(matrix))] ==[1, 1, 1] or [matrix[i][len(matrix)-i-1] for i in range(len(matrix))] == [1,1,1]:\n",
    "    print('Player 1 has won')\n",
    "    \n",
    "elif matrix[0] == [2, 2, 2] or matrix[1] == [2, 2, 2] or matrix[2] == [2, 2, 2]:\n",
    "    print('Player 2 has won')\n",
    "    \n",
    "elif [i[0] for i in matrix] == [2, 2, 2] or [i[1] for i in matrix] == [2, 2, 2] or [i[2] for i in matrix] == [2, 2, 2]:\n",
    "    print('Player 2 has won')\n",
    "    \n",
    "elif [matrix[i][i] for i in range(len(matrix))] ==[2, 2, 2] or [matrix[i][len(matrix)-i-1] for i in range(len(matrix))] == [2, 2, 2]:\n",
    "    print('Player 2 has won')\n",
    "    \n",
    "else:\n",
    "    print('Continue Playing')"
   ]
  },
  {
   "cell_type": "markdown",
   "metadata": {},
   "source": [
    "# Full Tic Toe Draw "
   ]
  },
  {
   "cell_type": "code",
   "execution_count": null,
   "metadata": {},
   "outputs": [],
   "source": [
    "def tic_tac_toe_draw():\n",
    "\n",
    "    # initialise empty game\n",
    "    game = [[0, 0, 0],\n",
    "        [0, 0, 0],\n",
    "        [0, 0, 0]]\n",
    "\n",
    "    # initialise game won as 0 (not won)\n",
    "    game_won = 0\n",
    "    count = 1\n",
    "\n",
    "    # player 1 go\n",
    "    player1 = input('Player 1, place a cross on the board by stating the coordinate - e.g. 1,2 would be first row, second column: ')\n",
    "    # turn player 1 input into list\n",
    "    player1 = player1.split() \n",
    "    # spearate row and column from the list\n",
    "    row = int(player1[0][0])-1\n",
    "    column = int(player1[0][2])-1\n",
    "    # update the game board with player 1's go\n",
    "    game[row][column] = 1\n",
    "\n",
    "    print(game)\n",
    "    \n",
    "    # Player 2's go\n",
    "    player2 = input('Player 2, place a cross on the board by stating the coordinate - e.g. 1,2 would be first row, second column: ')\n",
    "    player2 = player2.split() \n",
    "    row = int(player2[0][0])-1\n",
    "    column = int(player2[0][2])-1\n",
    "    game[row][column] = 2\n",
    "\n",
    "    print(game)\n",
    "\n",
    "    while game_won == 0:\n",
    "\n",
    "        count +=1\n",
    "\n",
    "        player1 = input('Player 1, place a cross on the board by stating the coordinate - e.g. 1,2 would be first row, second column: ')\n",
    "        player1 = player1.split() \n",
    "        row = int(player1[0][0])-1\n",
    "        column = int(player1[0][2])-1\n",
    "        game[row][column] = 1\n",
    "\n",
    "        print(game)\n",
    "        \n",
    "        player2 = input('Player 2, place a cross on the board by stating the coordinate - e.g. 1,2 would be first row, second column: ')\n",
    "        player2 = player2.split() \n",
    "        row = int(player2[0][0])-1\n",
    "        column = int(player2[0][2])-1\n",
    "        game[row][column] = 2\n",
    "        \n",
    "        # any of the rows\n",
    "        if game[0] == [1, 1, 1] or game[1] == [1, 1, 1] or game[2] == [1, 1, 1]:\n",
    "            game_won = 1\n",
    "            print('Player 1 has won')\n",
    "\n",
    "        # any of the verticals\n",
    "        elif [i[0] for i in game] == [1, 1, 1] or [i[1] for i in game] == [1, 1, 1] or [i[2] for i in game] == [1, 1, 1]:\n",
    "            game_won = 1\n",
    "            print('Player 1 has won')\n",
    "\n",
    "        # any of the diagnols  (first element of the first sub-list for number of sub lists, then second element of second sub list etc.)\n",
    "        elif [game[i][i] for i in range(len(game))] ==[1, 1, 1] or [game[i][len(game)-i-1] for i in range(len(game))] == [1,1,1]:\n",
    "            game_won = 1\n",
    "            print('Player 1 has won')\n",
    "\n",
    "        elif game[0] == [2, 2, 2] or game[1] == [2, 2, 2] or game[2] == [2, 2, 2]:\n",
    "            game_won = 1\n",
    "            print('Player 2 has won')\n",
    "\n",
    "        elif [i[0] for i in game] == [2, 2, 2] or [i[1] for i in game] == [2, 2, 2] or [i[2] for i in game] == [2, 2, 2]:\n",
    "            game_won = 1\n",
    "            print('Player 2 has won')\n",
    "\n",
    "        elif [game[i][i] for i in range(len(game))] ==[2, 2, 2] or [game[i][len(game)-i-1] for i in range(len(game))] == [2, 2, 2]:\n",
    "            game_won = 1\n",
    "            print('Player 2 has won')\n",
    "\n",
    "        # Checks if there is no empty spaces\n",
    "        elif not any(0 in i for i in game):\n",
    "            print('There aint no more room at the end')\n",
    "            \n",
    "        else:\n",
    "            print('Continue Playing')\n",
    "\n",
    "        print(game)"
   ]
  },
  {
   "cell_type": "markdown",
   "metadata": {},
   "source": [
    "# Max of Three"
   ]
  },
  {
   "cell_type": "code",
   "execution_count": null,
   "metadata": {},
   "outputs": [],
   "source": [
    "def max_of_three(a, b, c):\n",
    "    \n",
    "    if a > b and a > c:\n",
    "        print(a, ' is the largest')\n",
    "        \n",
    "    if b > a and b > c:\n",
    "        print(b, ' is the largest')\n",
    "        \n",
    "    if c > a and c > b:\n",
    "        print(c, ' is the largest')"
   ]
  },
  {
   "cell_type": "markdown",
   "metadata": {},
   "source": [
    "# Pick Word"
   ]
  },
  {
   "cell_type": "code",
   "execution_count": null,
   "metadata": {},
   "outputs": [],
   "source": [
    "import random\n",
    "\n",
    "def random_word_generator():\n",
    "    with open(r\"C:\\Users\\richard.dudbridge\\Documents\\Python Scripts\\sowpods.txt\", 'r') as open_file:\n",
    "        list_words = open_file.read()\n",
    "\n",
    "    list_words = list_words.split('\\n')\n",
    "\n",
    "    random_word = random.choice(list_words)\n",
    "\n",
    "    return random_word"
   ]
  },
  {
   "cell_type": "code",
   "execution_count": null,
   "metadata": {},
   "outputs": [],
   "source": [
    "a = random_word_generator()"
   ]
  },
  {
   "cell_type": "markdown",
   "metadata": {},
   "source": [
    "# Guess Letters "
   ]
  },
  {
   "cell_type": "code",
   "execution_count": null,
   "metadata": {},
   "outputs": [],
   "source": [
    "import random # library used for random words\n",
    "\n",
    "def random_word_generator(): # generates random word from sowpods file\n",
    "    with open(r\"C:\\Users\\richard.dudbridge\\Documents\\Python Scripts\\sowpods.txt\", 'r') as open_file:\n",
    "        list_words = open_file.read() # list for each line within the file\n",
    "    list_words = list_words.split('\\n') # remove \\n from the list\n",
    "    random_word = random.choice(list_words) # generates random word from the list\n",
    "    return random_word\n",
    "\n",
    "print('Welcome to hangman') # game introduction to player\n",
    "\n",
    "random_word = list(random_word_generator()) # word from random word generator \n",
    "guessed_so_far = list('_'*len(random_word)) # create blank dashes in the length of the word that is being guessed\n",
    "incorrect_guess = '' # create empty string for all incorrect letters\n",
    "index = 0 # set index for 'poition' of letter in word\n",
    "count = 0 # initates count of guesses\n",
    "  \n",
    "while True: # main loop for allowing the user to guess the word\n",
    "    guess = input('Guess a letter (in caps): ')  # user guess     \n",
    "    \n",
    "    if guess == 'EXIT' or guess == 'exit': # allows user to exit\n",
    "        break\n",
    "  \n",
    "    elif guess in random_word: # adds correct guesses to blank word \n",
    "        index = random_word.index(guess) \n",
    "        guessed_so_far[index] = guess\n",
    "        random_word[index] = '_'\n",
    "        print('The letter ', guess, ' is correct, here is the word you have guessed so far: ', ''.join(guessed_so_far))\n",
    "     \n",
    "    elif guess not in random_word: # adds incorrect guesses to a incorrect string\n",
    "        incorrect_guess += guess\n",
    "        count += 1\n",
    "        print('The letter ', guess, ' is incorrect - these are your incorrect guesses: ', incorrect_guess.replace('','  '), 'you have', 6-count, 'tries left')   \n",
    "       \n",
    "    if len(incorrect_guess) > 5: # ends game if you get 6 guesses wrong\n",
    "        print('You got 6 guesses wrong. You are hanged. The remaining letters are', ''.join(random_word), ', you managed to guess', ''.join(guessed_so_far), 'but you guessed these letters incorrectly: ', incorrect_guess) \n",
    "        break\n",
    "    \n",
    "    if '_' not in guessed_so_far: # ends game when all letters are guessed\n",
    "       print('You win!! No hanging required. You guessed',  len(incorrect_guess), 'letters incorrectly. The full word is:', ''.join(guessed_so_far))\n",
    "       break "
   ]
  },
  {
   "cell_type": "markdown",
   "metadata": {},
   "source": [
    "# Hangman (full game)"
   ]
  },
  {
   "cell_type": "code",
   "execution_count": 5,
   "metadata": {},
   "outputs": [
    {
     "name": "stdout",
     "output_type": "stream",
     "text": [
      "Welcome to the Hangman Game!\n",
      "\n",
      "\n",
      "_ _ _ _ _ _ _ _ _ _ _ _ _ _ _ \n",
      "\n",
      "Guess a letter: q\n",
      "Q is incorrect, here are the letters you have guessed incorrectly:  ['Q'] , you have 5 guess(es) left!\n",
      "\n",
      "‾‾‾‾‾‾\n",
      "\n",
      "\n",
      "_ _ _ _ _ _ _ _ _ _ _ _ _ _ _ \n",
      "\n",
      "Guess a letter: w\n",
      "W is incorrect, here are the letters you have guessed incorrectly:  ['Q', 'W'] , you have 4 guess(es) left!\n",
      "\n",
      " |\n",
      " |\n",
      " |\n",
      " |\n",
      " |\n",
      "‾‾‾‾‾‾\n",
      "\n",
      "\n",
      "_ _ _ _ _ _ _ _ _ _ _ _ _ _ _ \n",
      "\n",
      "Guess a letter: e\n",
      "E is incorrect, here are the letters you have guessed incorrectly:  ['Q', 'W', 'E'] , you have 3 guess(es) left!\n",
      "\n",
      "   ________\n",
      " |        |\n",
      " |\n",
      " |\n",
      " |\n",
      " |\n",
      "‾‾‾‾‾‾\n",
      "\n",
      "\n",
      "_ _ _ _ _ _ _ _ _ _ _ _ _ _ _ \n",
      "\n",
      "Guess a letter: r\n",
      "Correct!\n",
      "\n",
      "   ________\n",
      " |        |\n",
      " |\n",
      " |\n",
      " |\n",
      " |\n",
      "‾‾‾‾‾‾\n",
      "\n",
      "\n",
      "_ R _ _ _ _ _ _ _ _ _ _ _ _ _ \n",
      "\n",
      "Guess a letter: t\n",
      "Correct!\n",
      "\n",
      "   ________\n",
      " |        |\n",
      " |\n",
      " |\n",
      " |\n",
      " |\n",
      "‾‾‾‾‾‾\n",
      "\n",
      "\n",
      "T R _ _ _ _ _ _ _ _ T _ _ _ _ \n",
      "\n",
      "Guess a letter: y\n",
      "Y is incorrect, here are the letters you have guessed incorrectly:  ['Q', 'W', 'E', 'Y'] , you have 2 guess(es) left!\n",
      "\n",
      "   ________\n",
      " |        | \n",
      " |        ◯\n",
      " |\n",
      " |\n",
      " |\n",
      "‾‾‾‾‾‾\n",
      "\n",
      "\n",
      "T R _ _ _ _ _ _ _ _ T _ _ _ _ \n",
      "\n",
      "Guess a letter: u\n",
      "U is incorrect, here are the letters you have guessed incorrectly:  ['Q', 'W', 'E', 'Y', 'U'] , you have 1 guess(es) left!\n",
      "\n",
      "   ________\n",
      " |        | \n",
      " |        ◯\n",
      " |      /‾|‾\\ \n",
      " |\n",
      " |\n",
      "‾‾‾‾‾‾\n",
      "\n",
      "\n",
      "T R _ _ _ _ _ _ _ _ T _ _ _ _ \n",
      "\n",
      "Guess a letter: i\n",
      "Correct!\n",
      "\n",
      "   ________\n",
      " |        | \n",
      " |        ◯\n",
      " |      /‾|‾\\ \n",
      " |\n",
      " |\n",
      "‾‾‾‾‾‾\n",
      "\n",
      "\n",
      "T R I _ _ I _ I _ _ T I _ _ _ \n",
      "\n",
      "Guess a letter: o\n",
      "Correct!\n",
      "\n",
      "   ________\n",
      " |        | \n",
      " |        ◯\n",
      " |      /‾|‾\\ \n",
      " |\n",
      " |\n",
      "‾‾‾‾‾‾\n",
      "\n",
      "\n",
      "T R I _ _ I _ I _ _ T I O _ _ \n",
      "\n",
      "Guess a letter: p\n",
      "P is incorrect, here are the letters you have guessed incorrectly:  ['Q', 'W', 'E', 'Y', 'U', 'P'] , you have 0 guess(es) left!\n",
      "YOU LOOSE, you guessed 6 letters incorrectly\n",
      "\n",
      "   ________\n",
      " |        | \n",
      " |        ◯\n",
      " |      /‾|‾\\ \n",
      " |       / \\ \n",
      " |\n",
      "‾‾‾‾‾‾       RIP\n",
      "\n",
      "\n",
      "T R I   I  I   T I O   \n",
      "\n",
      "The word was TRICHINIZATIONS.\n",
      "Do you wanna play again (y/n)? n\n"
     ]
    }
   ],
   "source": [
    "import random # library used for random words\n",
    "\n",
    "def random_word_generator(): # generates random word from sowpods file\n",
    "    with open(r\"C:\\Users\\richard.dudbridge\\Documents\\Python Scripts\\sowpods.txt\", 'r') as open_file:\n",
    "        list_words = open_file.read() # list for each line within the file\n",
    "    list_words = list_words.split('\\n') # remove \\n from the list\n",
    "    random_word = random.choice(list_words) # generates random word from the list\n",
    "    return random_word\n",
    "\n",
    "word = random_word_generator() # set word that the user is guessing to a random word\n",
    "guess = [] # initiate the variable that will hold the user's guess\n",
    "incorrect_guesses = [] # initate the variable that will hold all incorrect guessses\n",
    "\n",
    "for i in range(0, len(word)): # create a word made from dashes\n",
    "    guess.append(\"_\")\n",
    "\n",
    "def get_letter(): # ask user for a letter\n",
    "    letter = input(\"Guess a letter: \")\n",
    "    return to_upper(letter)\n",
    "\n",
    "def to_upper(letter): # convert guess to uppercase (as library of word is all in uppercase)\n",
    "    return letter.upper()\n",
    "\n",
    "def print_word(guess): # adds spaces inbetween dashes\n",
    "    print('\\n')\n",
    "    for i in guess:\n",
    "        print(i + ' ', end='')\n",
    "    print('\\n')\n",
    "\n",
    "def find_word(word, letter): # checks if guessed letter is in word and updates  guess variable if so\n",
    "    global guess\n",
    "    if letter in word:\n",
    "        found = [pos for pos, char in enumerate(word) if char == letter]\n",
    "        for position in found:\n",
    "            guess[position] = letter\n",
    "        print(\"Correct!\")\n",
    "    else:\n",
    "        incorrect_guesses.append(letter)\n",
    "        print(letter, 'is incorrect, here are the letters you have guessed incorrectly: ', incorrect_guesses, ', you have', 6-len(incorrect_guesses), 'guess(es) left!')\n",
    "    # print statement for progressively hanged man\n",
    "    if len(incorrect_guesses) == 1:\n",
    "        print('\\n‾‾‾‾‾‾')\n",
    "    if len(incorrect_guesses) == 2:\n",
    "        print('\\n |\\n |\\n |\\n |\\n |\\n‾‾‾‾‾‾')\n",
    "    if len(incorrect_guesses) == 3:\n",
    "        print('\\n   ________\\n |        |\\n |\\n |\\n |\\n |\\n‾‾‾‾‾‾')\n",
    "    if len(incorrect_guesses) == 4:\n",
    "        print('\\n   ________\\n |        | \\n |        ◯\\n |\\n |\\n |\\n‾‾‾‾‾‾')  \n",
    "    if len(incorrect_guesses) == 5:\n",
    "        print('\\n   ________\\n |        | \\n |        ◯\\n |      /‾|‾\\ \\n |\\n |\\n‾‾‾‾‾‾')         \n",
    "    if len(incorrect_guesses) > 5:\n",
    "        guess = ['' if i == '_' else i for i in guess]\n",
    "        print('YOU LOOSE, you guessed 6 letters incorrectly')\n",
    "        print('\\n   ________\\n |        | \\n |        ◯\\n |      /‾|‾\\ \\n |       / \\ \\n |\\n‾‾‾‾‾‾       RIP')  \n",
    "        \n",
    "def game(): # function that brings together all the above functions to allow the user to play the game\n",
    "    print(\"Welcome to the Hangman Game!\")\n",
    "    answer = 'y'\n",
    "    while answer!='n' and answer!='N': \n",
    "        print_word(guess)\n",
    "        if \"_\" not in guess: # game ends when there are no more dashes left, i.e. when all the words are guessed\n",
    "            break\n",
    "        letter = get_letter()\n",
    "        find_word(word, letter)\n",
    "      \n",
    "    print(\"The word was \" + word + \".\")\n",
    "\n",
    "\n",
    "if __name__ == \"__main__\": # plays the game if the game() function is run within the main environment\n",
    "    game()\n",
    "    \n",
    "answer=input(\"Do you wanna play again (y/n)? \")"
   ]
  },
  {
   "cell_type": "markdown",
   "metadata": {},
   "source": [
    "# Birthday Dictionaries"
   ]
  },
  {
   "cell_type": "code",
   "execution_count": 37,
   "metadata": {},
   "outputs": [
    {
     "name": "stdout",
     "output_type": "stream",
     "text": [
      "Whose birthday would you like to look up?: Carl\n",
      "Carls birthday is on the No one knows\n"
     ]
    }
   ],
   "source": [
    "birthday_dictionary = {\n",
    "    \"Fred\" : '11th Feb',\n",
    "    \"Bob\" : '1st Dec',\n",
    "    \"Harry\" : '6th March'\n",
    "}\n",
    "\n",
    "birthday_dictionary['Carl'] = 'No one knows'\n",
    "\n",
    "name = input('Whose birthday would you like to look up?: ')\n",
    "\n",
    "if name in birthday_dictionary:\n",
    "    print('{}s birthday is on the {}'.format(name, birthday_dictionary[name]))\n",
    "\n",
    "else:\n",
    "    print('We do not know {}\\'s birthday'.format(name))"
   ]
  },
  {
   "cell_type": "markdown",
   "metadata": {},
   "source": [
    "# Birthday Json"
   ]
  },
  {
   "cell_type": "code",
   "execution_count": 47,
   "metadata": {},
   "outputs": [
    {
     "name": "stdout",
     "output_type": "stream",
     "text": [
      "Give us a new user nameJack\n",
      "Give us a the new users bday11th Dec\n"
     ]
    }
   ],
   "source": [
    "import json\n",
    "\n",
    "with open('birthdays.json', 'w') as i:\n",
    "    json.dump(birthday_dictionary, i)\n",
    "    \n",
    "with open('birthdays.json', 'r') as i:\n",
    "    birthdays = json.load(i)\n",
    "    \n",
    "new_name = input('Give us a new user name: ')\n",
    "new_bday = input('Give us a the new users bday: ')\n",
    "\n",
    "birthdays[new_name] = new_bday"
   ]
  },
  {
   "cell_type": "markdown",
   "metadata": {},
   "source": [
    "# More Mature Date Dictionary "
   ]
  },
  {
   "cell_type": "code",
   "execution_count": 50,
   "metadata": {},
   "outputs": [
    {
     "name": "stdout",
     "output_type": "stream",
     "text": [
      "What do you want to do next? you can: Add, Find, List, Quit\n",
      "List\n",
      "The current entries in my birthday list are:\n",
      "============================================\n",
      "Fred                            : 11th Feb\n",
      "Bob                             : 1st Dec\n",
      "Harry                           : 6th March\n",
      "Carl                            : 16th Sep\n",
      "\n",
      "What do you want to do next? you can: Add, Find, List, Quit\n",
      "Quir\n",
      "What do you want to do next? you can: Add, Find, List, Quit\n",
      "uit\n",
      "What do you want to do next? you can: Add, Find, List, Quit\n",
      "Quit\n",
      "Good Bye\n"
     ]
    },
    {
     "ename": "SystemExit",
     "evalue": "0",
     "output_type": "error",
     "traceback": [
      "An exception has occurred, use %tb to see the full traceback.\n",
      "\u001b[1;31mSystemExit\u001b[0m\u001b[1;31m:\u001b[0m 0\n"
     ]
    }
   ],
   "source": [
    "import json\n",
    "\n",
    "birthday = {}\n",
    "with open('birthdays.json', 'r') as f:\n",
    "          birthday = json.load(f)\n",
    "\n",
    "def add_entry():\n",
    "    name = input('Who do you want to add to the Birthday Dictionary?\\n').title()\n",
    "    date = input('When is {} born?\\n'.format(name))\n",
    "    birthday[name] = date\n",
    "    with open('birthdays.json', 'w') as f:\n",
    "        json.dump(birthday, f)\n",
    "    print('{} was added to my birthday list\\n'.format(name))\n",
    "\n",
    "def find_date():\n",
    "    name = input(\"who's birthday do you want to know?\\n\").title()\n",
    "    try :\n",
    "        if birthday[name]:\n",
    "            print('{} is born on {}\\n'.format(name, birthday[name]))\n",
    "    except KeyError:\n",
    "        print('{} is not in the list\\n'.format(name))\n",
    "\n",
    "def list_entries():\n",
    "    print('The current entries in my birthday list are:\\n============================================')\n",
    "    for key in birthday:\n",
    "        print(key.ljust(31), ':', birthday[key])\n",
    "    print()\n",
    "\n",
    "while True:\n",
    "    what_next = input('What do you want to do next? you can: Add, Find, List, Quit\\n').capitalize()\n",
    "    if what_next == 'Quit':\n",
    "        print('Good Bye')\n",
    "        raise SystemExit(0)\n",
    "    elif what_next == 'Add':\n",
    "        add_entry()\n",
    "    elif what_next == 'Find':\n",
    "        find_date()\n",
    "    elif what_next == 'List':\n",
    "        list_entries()"
   ]
  },
  {
   "cell_type": "markdown",
   "metadata": {},
   "source": [
    "# Birthday Months"
   ]
  },
  {
   "cell_type": "code",
   "execution_count": 54,
   "metadata": {},
   "outputs": [
    {
     "name": "stdout",
     "output_type": "stream",
     "text": [
      "Counter({'Dec': 2, 'Feb': 1, 'March': 1, 'one': 1})\n"
     ]
    }
   ],
   "source": [
    "from collections import Counter\n",
    "\n",
    "month = []\n",
    "\n",
    "birthday = {}\n",
    "with open('birthdays.json', 'r') as f:\n",
    "          birthday = json.load(f)\n",
    "        \n",
    "for i in birthdays.values(): # create new variable that just contains the months \n",
    "    month.append(i.split()[1])\n",
    "\n",
    "print(Counter(month)) # print count of months"
   ]
  },
  {
   "cell_type": "markdown",
   "metadata": {},
   "source": [
    "# Birthday Plots"
   ]
  },
  {
   "cell_type": "code",
   "execution_count": 68,
   "metadata": {},
   "outputs": [],
   "source": [
    "!pip install bokeh\n",
    "\n",
    "from bokeh.plotting import figure, show, output_file\n",
    "\n",
    "output_file(\"plot.html\")\n",
    "\n",
    "x_categories = [\"Jan\", \"Feb\", \"Mar\", \"Apr\", \"May\", \"Jun\", \"Jul\", \"Aug\", \"Oct\", \"Dec\"]\n",
    "x = [\"Jan\", \"Mar\", \"Dec\"]\n",
    "y = [4, 155, 6]\n",
    "\n",
    "p = figure(x_range=x_categories)\n",
    "p.vbar(x=x, top=y, width=0.5)\n",
    "\n",
    "show(p)"
   ]
  }
 ],
 "metadata": {
  "kernelspec": {
   "display_name": "Python 3",
   "language": "python",
   "name": "python3"
  },
  "language_info": {
   "codemirror_mode": {
    "name": "ipython",
    "version": 3
   },
   "file_extension": ".py",
   "mimetype": "text/x-python",
   "name": "python",
   "nbconvert_exporter": "python",
   "pygments_lexer": "ipython3",
   "version": "3.7.6"
  }
 },
 "nbformat": 4,
 "nbformat_minor": 4
}
